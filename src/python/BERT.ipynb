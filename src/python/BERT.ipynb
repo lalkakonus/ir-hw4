{
  "nbformat": 4,
  "nbformat_minor": 0,
  "metadata": {
    "colab": {
      "name": "BERT",
      "provenance": [],
      "collapsed_sections": []
    },
    "kernelspec": {
      "name": "python3",
      "display_name": "Python 3"
    },
    "accelerator": "GPU"
  },
  "cells": [
    {
      "cell_type": "markdown",
      "metadata": {
        "id": "IsCfjCGyd7ha",
        "colab_type": "text"
      },
      "source": [
        "Установка необходимых библиотек"
      ]
    },
    {
      "cell_type": "code",
      "metadata": {
        "id": "S-KCP9AaToMq",
        "colab_type": "code",
        "colab": {}
      },
      "source": [
        "!pip install deeppavlov\n",
        "!pip install transformers\n",
        "!pip install pandas"
      ],
      "execution_count": null,
      "outputs": []
    },
    {
      "cell_type": "markdown",
      "metadata": {
        "id": "LiXIryXaeD1p",
        "colab_type": "text"
      },
      "source": [
        "Монтирование диска Google Drive для загрузк и харанения  данных.\n",
        "\n",
        "**ВНИМАНИЕ** для доступа к данным необходимо выполнить следующие действия:\n",
        "\n",
        "1. Перейти по [ссылке](https://drive.google.com/drive/folders/1MnoxVXjG8o8kL0SS14E3YzbZmCovsGpR?usp=sharing)\n",
        "2. Создать ярлык на данную директорию в своём Google Drive. Для этого нажмите на название директории а затем на \"Добавить ярлык на Диск\"."
      ]
    },
    {
      "cell_type": "code",
      "metadata": {
        "id": "7NUyglALSF0q",
        "colab_type": "code",
        "colab": {}
      },
      "source": [
        "from google.colab import drive\n",
        "drive.mount(\"/content/gdrive\")"
      ],
      "execution_count": null,
      "outputs": []
    },
    {
      "cell_type": "markdown",
      "metadata": {
        "id": "2uzVGSkNeHOP",
        "colab_type": "text"
      },
      "source": [
        "Импортирование необходимых библиотек\n"
      ]
    },
    {
      "cell_type": "code",
      "metadata": {
        "id": "iaXkVZ1qTMyE",
        "colab_type": "code",
        "colab": {}
      },
      "source": [
        "from deeppavlov.core.common.file import read_json\n",
        "from deeppavlov import build_model, configs\n",
        "from pathlib import Path\n",
        "import pandas as pd\n",
        "import numpy as np\n",
        "from sklearn.metrics.pairwise import cosine_similarity\n",
        "from tqdm import tqdm\n",
        "\n",
        "prefix = Path(\"/content/gdrive/My Drive/Kononov_NLP\")"
      ],
      "execution_count": null,
      "outputs": []
    },
    {
      "cell_type": "markdown",
      "metadata": {
        "id": "GtsQAc56eLgD",
        "colab_type": "text"
      },
      "source": [
        "Выбор и загрузка модели для получения эмбеддингов"
      ]
    },
    {
      "cell_type": "code",
      "metadata": {
        "id": "rBNwamZCTVmW",
        "colab_type": "code",
        "colab": {}
      },
      "source": [
        "bert_config = read_json(configs.embedder.bert_embedder)\n",
        "# name, alias = \"ru_bert_cased\", \"cased\"\n",
        "# name, alias = \"ru_bert_conversational\", \"conversational\"\n",
        "name, alias = \"ru_bert_sentence\", \"sentence\"\n",
        "\n",
        "bert_config['metadata']['variables']['BERT_PATH'] = prefix / \"BERT/{}\".format(name)\n",
        "model = build_model(bert_config)"
      ],
      "execution_count": null,
      "outputs": []
    },
    {
      "cell_type": "markdown",
      "metadata": {
        "id": "Is_47y5QedMk",
        "colab_type": "text"
      },
      "source": [
        "Проверка работы на простом примере"
      ]
    },
    {
      "cell_type": "code",
      "metadata": {
        "id": "q5NeUiX3kTWo",
        "colab_type": "code",
        "colab": {}
      },
      "source": [
        "%%time\n",
        "texts = [\"сделать звонок\", \"дозвониться\"]\n",
        "\n",
        "tokens, token_embs, subtokens, subtoken_embs, sent_max_embs, sent_mean_embs, bert_pooler_outputs = model(texts)"
      ],
      "execution_count": null,
      "outputs": []
    },
    {
      "cell_type": "markdown",
      "metadata": {
        "id": "CwFoQqMgelhq",
        "colab_type": "text"
      },
      "source": [
        "Подсчёт близости запросов и заголовков документов в пространстве эмбеддингов."
      ]
    },
    {
      "cell_type": "code",
      "metadata": {
        "id": "dIvL_TSFHZGz",
        "colab_type": "code",
        "colab": {}
      },
      "source": [
        "\n",
        "queries_df = pd.read_csv(prefix / \"queries.tsv\", sep=\"\\t\", index_col=0)\n",
        "titles_df = pd.read_csv(prefix / \"titles.tsv\", sep=\"\\t\", index_col=0).fillna(\"\")\n",
        "relation_df = pd.read_csv(prefix / \"samples.tsv\", sep=\"\\t\")\n",
        "\n",
        "titles_df[\"text\"] = titles_df[\"text\"].apply(lambda x: \" \".join(x.split()[:100]))\n",
        "print(titles_df.head())\n",
        "\n",
        "\n",
        "relation_df.drop(columns=[\"label\", \"sample_id\"], inplace=True)\n",
        "relation_df = relation_df.assign(mean_embedding_similarity=np.full(relation_df.index.size, 0.0))\n",
        "relation_df = relation_df.assign(max_embedding_similarity=np.full(relation_df.index.size, 0.0))\n",
        "relation_df = relation_df.assign(layer_embedding_similarity=np.full(relation_df.index.size, 0.0))\n",
        "for key, group in tqdm(relation_df.groupby(\"query_id\"), position=0, leave=True):\n",
        "  doc_idx = group[\"doc_id\"].values\n",
        "  query_embedding = model([queries_df[\"text\"].loc[key],])[-3:]\n",
        "  titles = titles_df[\"text\"].loc[doc_idx]\n",
        "  print(titles.to_list())\n",
        "  try:\n",
        "    title_embeddings = model(titles.to_list())[-3:]\n",
        "  except Exception as error:\n",
        "    title_embeddings = model(titles.apply(lambda x: \" \".join(x.split()[:30])).to_list())[-3:]\n",
        "\n",
        "  relation_df.loc[group.index, \"mean_embedding_similarity\"] = cosine_similarity(query_embedding[0].reshape(1, -1),\n",
        "                                                                          title_embeddings[0]).reshape(-1)\n",
        "  relation_df.loc[group.index, \"max_embedding_similarity\"] = cosine_similarity(query_embedding[1].reshape(1, -1),\n",
        "                                                                          title_embeddings[1]).reshape(-1)\n",
        "  relation_df.loc[group.index, \"layer_embedding_similarity\"] = cosine_similarity(query_embedding[2].reshape(1, -1),\n",
        "                                                                          title_embeddings[2]).reshape(-1)\n",
        "  \n",
        "\n",
        "\n",
        "\n",
        "path = prefix / \"semantic/bert_{}_query_doc_embedding_similarity.tsv\".format(alias)\n",
        "relation_df.to_csv(path, sep=\"\\t\", index=False)\n",
        "print(\"Result saved to file: {}\".format(path))"
      ],
      "execution_count": null,
      "outputs": []
    }
  ]
}