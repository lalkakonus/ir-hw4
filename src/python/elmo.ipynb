{
  "nbformat": 4,
  "nbformat_minor": 0,
  "metadata": {
    "colab": {
      "name": "ELMo",
      "provenance": [],
      "collapsed_sections": []
    },
    "kernelspec": {
      "name": "python3",
      "display_name": "Python 3"
    },
    "accelerator": "GPU"
  },
  "cells": [
    {
      "cell_type": "markdown",
      "metadata": {
        "id": "Ehfbwtfxf1DX",
        "colab_type": "text"
      },
      "source": [
        "Монтирование диска Google Drive для загрузк и харанения  данных.\n",
        "\n",
        "**ВНИМАНИЕ** для доступа к данным необходимо выполнить следующие действия:\n",
        "\n",
        "1. Перейти по [ссылке](https://drive.google.com/drive/folders/1MnoxVXjG8o8kL0SS14E3YzbZmCovsGpR?usp=sharing)\n",
        "2. Создать ярлык на данную директорию в своём Google Drive. Для этого нажмите на название директории а затем на \"Добавить ярлык на Диск\"."
      ]
    },
    {
      "cell_type": "code",
      "metadata": {
        "id": "P0KBwWbF92DL",
        "colab_type": "code",
        "colab": {}
      },
      "source": [
        "from google.colab import drive\n",
        "drive.mount(\"/content/gdrive\")"
      ],
      "execution_count": null,
      "outputs": []
    },
    {
      "cell_type": "code",
      "metadata": {
        "id": "apzakK7Cg5rS",
        "colab_type": "code",
        "colab": {}
      },
      "source": [
        "from pathlib import Path\n",
        "prefix = Path(\"/content/gdrive/My Drive/Kononov_NLP\")"
      ],
      "execution_count": null,
      "outputs": []
    },
    {
      "cell_type": "markdown",
      "metadata": {
        "id": "1_sCYiyXf3ex",
        "colab_type": "text"
      },
      "source": [
        "Установка необходимых библиотек в окружение"
      ]
    },
    {
      "cell_type": "code",
      "metadata": {
        "id": "HKYg8fMZ8p3V",
        "colab_type": "code",
        "colab": {}
      },
      "source": [
        "!pip install deeppavlov\n",
        "# !python -m deeppavlov install \"/content/gdrive/My Drive/Kononov_NLP/ELMo/elmo_ru_wiki/elmo_ru_wiki.json\"\n",
        "!python -m deeppavlov install \"/content/gdrive/My Drive/Kononov_NLP/ELMo/elmo_ru_tw/elmo_ru_tw.json\"\n",
        "!pip install tensorflow-hub==0.1.1\n",
        "!pip install tensorflow-gpu==1.14.0\n",
        "!pip install pandas"
      ],
      "execution_count": null,
      "outputs": []
    },
    {
      "cell_type": "markdown",
      "metadata": {
        "id": "iQvvksqRgH32",
        "colab_type": "text"
      },
      "source": [
        "Импорт необходимых компонентов"
      ]
    },
    {
      "cell_type": "code",
      "metadata": {
        "id": "H1Pxzxg48ssk",
        "colab_type": "code",
        "colab": {}
      },
      "source": [
        "from deeppavlov import build_model\n",
        "from deeppavlov import configs\n",
        "import numpy as np\n",
        "import pandas as pd\n",
        "from sklearn.metrics.pairwise import cosine_similarity\n",
        "from deeppavlov.models.embedders.elmo_embedder import ELMoEmbedder\n",
        "from tqdm import tqdm"
      ],
      "execution_count": null,
      "outputs": []
    },
    {
      "cell_type": "markdown",
      "metadata": {
        "id": "RZRpDlfEgtl9",
        "colab_type": "text"
      },
      "source": [
        "Выбор и загрузка модели для получения эмбеддингов"
      ]
    },
    {
      "cell_type": "code",
      "metadata": {
        "id": "3gp49AY8ytSF",
        "colab_type": "code",
        "colab": {}
      },
      "source": [
        "# name, alias = \"elmo_ru_tw\", \"twitter\"\n",
        "# name, alias = \"elmo_ru_wiki\", \"wiki\"\n",
        "name, alias = \"elmo_ru_news\", \"news\"\n",
        "model = ELMoEmbedder(str(prefix / \"ELMo/{}\".format(name)))"
      ],
      "execution_count": null,
      "outputs": []
    },
    {
      "cell_type": "markdown",
      "metadata": {
        "id": "0HeElfAjgvdN",
        "colab_type": "text"
      },
      "source": [
        "Проверка работы на простом примере"
      ]
    },
    {
      "cell_type": "code",
      "metadata": {
        "id": "CxjO2HA4U7GG",
        "colab_type": "code",
        "colab": {}
      },
      "source": [
        "%%time\n",
        "text = [[\"мама\", \"мыла\", \"раму\", \"папе\"], ]\n",
        "emb = model(text)"
      ],
      "execution_count": null,
      "outputs": []
    },
    {
      "cell_type": "markdown",
      "metadata": {
        "id": "wM_B1G-FgyDb",
        "colab_type": "text"
      },
      "source": [
        "Подсчёт близости запросов и заголовков документов в пространстве эмбеддингов."
      ]
    },
    {
      "cell_type": "code",
      "metadata": {
        "id": "JhRH3aJn97B6",
        "colab_type": "code",
        "colab": {}
      },
      "source": [
        "queries_df = pd.read_csv(prefix / \"queries.tsv\", sep=\"\\t\", index_col=0)\n",
        "titles_df = pd.read_csv(prefix / \"titles.tsv\", sep=\"\\t\", index_col=0).fillna(\"\")\n",
        "titles_df[\"text\"] = titles_df[\"text\"].apply(lambda x: \" \".join(x.split()[:50]))\n",
        "\n",
        "relation_df = pd.read_csv(prefix / \"samples.tsv\", sep=\"\\t\")\n",
        "\n",
        "relation_df.drop(columns=[\"label\", \"sample_id\"], inplace=True)\n",
        "relation_df = relation_df.assign(embedding_similarity=np.full(relation_df.index.size, 0.0))\n",
        "for key, group in tqdm(relation_df.groupby(\"query_id\")):\n",
        "  doc_idx = group[\"doc_id\"].values\n",
        "  query_embedding = model([queries_df[\"text\"].loc[key].split(), ])\n",
        "  title_embeddings = model(titles_df[\"text\"].loc[doc_idx].apply(str.split).to_list())\n",
        "  relation_df.loc[group.index, \"embedding_similarity\"] = cosine_similarity(query_embedding.reshape(1, -1),\n",
        "                                                                           title_embeddings).reshape(-1)\n",
        "\n",
        "path = prefix / \"semantic/elmo_{}_query_doc_embedding_similarity.tsv\".format(alias)\n",
        "relation_df.to_csv(path, sep=\"\\t\", index=False)\n",
        "print(\"Result saved to file: {}\".format(path))"
      ],
      "execution_count": null,
      "outputs": []
    }
  ]
}