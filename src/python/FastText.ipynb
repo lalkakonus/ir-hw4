{
  "nbformat": 4,
  "nbformat_minor": 0,
  "metadata": {
    "colab": {
      "name": "FastText",
      "provenance": [],
      "private_outputs": true
    },
    "kernelspec": {
      "name": "python3",
      "display_name": "Python 3"
    },
    "accelerator": "GPU"
  },
  "cells": [
    {
      "cell_type": "markdown",
      "metadata": {
        "id": "jv3Le7TyRLZP",
        "colab_type": "text"
      },
      "source": [
        "Установка необходимых библиотек\n"
      ]
    },
    {
      "cell_type": "code",
      "metadata": {
        "id": "bf82ugbPARa9",
        "colab_type": "code",
        "colab": {}
      },
      "source": [
        "!pip install fasttext\n",
        "!pip install tqdm"
      ],
      "execution_count": null,
      "outputs": []
    },
    {
      "cell_type": "markdown",
      "metadata": {
        "id": "L2psF6_ARlTl",
        "colab_type": "text"
      },
      "source": [
        "Монтирование диска Google Drive для загрузк и харанения  данных.\n",
        "\n",
        "**ВНИМАНИЕ** для доступа к данным необходимо выполнить следующие действия:\n",
        "\n",
        "1. Перейти по [ссылке](https://drive.google.com/drive/folders/1MnoxVXjG8o8kL0SS14E3YzbZmCovsGpR?usp=sharing)\n",
        "2. Создать ярлык на данную директорию в своём Google Drive. Для этого нажмите на название директории а затем на \"Добавить ярлык на Диск\"."
      ]
    },
    {
      "cell_type": "code",
      "metadata": {
        "id": "GQtE9BRtBBXo",
        "colab_type": "code",
        "colab": {}
      },
      "source": [
        "from google.colab import drive\n",
        "drive.mount(\"/content/gdrive\")"
      ],
      "execution_count": null,
      "outputs": []
    },
    {
      "cell_type": "markdown",
      "metadata": {
        "id": "uqtlYovaRqJX",
        "colab_type": "text"
      },
      "source": [
        "Импортирование нужных библиотек"
      ]
    },
    {
      "cell_type": "code",
      "metadata": {
        "id": "WS1mNOXq-bUb",
        "colab_type": "code",
        "colab": {}
      },
      "source": [
        "from fasttext import FastText\n",
        "from pathlib import Path\n",
        "import pandas as pd\n",
        "import numpy as np\n",
        "from sklearn.metrics.pairwise import cosine_similarity\n",
        "from tqdm import tqdm\n",
        "\n",
        "prefix = Path(\"/content/gdrive/My Drive/Kononov_NLP\")"
      ],
      "execution_count": null,
      "outputs": []
    },
    {
      "cell_type": "markdown",
      "metadata": {
        "id": "3wBDRJ5_RtqE",
        "colab_type": "text"
      },
      "source": [
        "Выбор модели для получения эмбеддингов"
      ]
    },
    {
      "cell_type": "code",
      "metadata": {
        "id": "r4zjc9ez-w8k",
        "colab_type": "code",
        "colab": {}
      },
      "source": [
        "name, alias = \"ft_native_300_ru_wiki_lenta_lower_case\", \"wiki\"\n",
        "# name, alias = \"ft_native_300_ru_twitter_nltk_word_tokenize\", \"twitter\"\n",
        "# name, alias = \"cc.ru.300\", \"original\""
      ],
      "execution_count": null,
      "outputs": []
    },
    {
      "cell_type": "markdown",
      "metadata": {
        "id": "OFq3yy89R2QW",
        "colab_type": "text"
      },
      "source": [
        "Загрузка предобученной модели с диска Google Drive"
      ]
    },
    {
      "cell_type": "code",
      "metadata": {
        "id": "_Df0YjG1_A1I",
        "colab_type": "code",
        "colab": {}
      },
      "source": [
        "model = FastText.load_model(prefix / \"FastText/{}.bin\".format(name))"
      ],
      "execution_count": null,
      "outputs": []
    },
    {
      "cell_type": "markdown",
      "metadata": {
        "id": "7WTVjJG8U772",
        "colab_type": "text"
      },
      "source": [
        "Подсчёт близости запросов и загоовков документов в пространстве эмбеддингов."
      ]
    },
    {
      "cell_type": "code",
      "metadata": {
        "id": "XeYXaX19_GZV",
        "colab_type": "code",
        "colab": {}
      },
      "source": [
        "queries_df = pd.read_csv(prefix / \"queries.tsv\", sep=\"\\t\", index_col=0)\n",
        "titles_df = pd.read_csv(prefix / \"titles.tsv\", sep=\"\\t\", index_col=0).fillna(\"\")\n",
        "relation_df = pd.read_csv(prefix / \"samples.tsv\", sep=\"\\t\")\n",
        "\n",
        "relation_df.drop(columns=[\"label\", \"sample_id\"], inplace=True)\n",
        "relation_df = relation_df.assign(embedding_similarity=np.full(relation_df.index.size, 0.0))\n",
        "for key, group in tqdm(relation_df.groupby(\"query_id\"), position=0, leave=True):\n",
        "  doc_idx = group[\"doc_id\"].values\n",
        "  query_embedding = model.get_sentence_vector(queries_df[\"text\"].loc[key])\n",
        "  title_embeddings = np.array([x for x in (titles_df[\"text\"].loc[doc_idx]).apply(model.get_sentence_vector)])\n",
        "  relation_df.loc[group.index, \"embedding_similarity\"] = cosine_similarity(query_embedding.reshape(1, -1),\n",
        "                                                                           title_embeddings).reshape(-1)\n",
        "\n",
        "path = prefix / \"semantic/fasttext_{}_query_doc_embedding_similarity.tsv\".format(alias)\n",
        "relation_df.to_csv(path, sep=\"\\t\", index=False)\n",
        "print(\"Result saved to file: {}\".format(path))"
      ],
      "execution_count": null,
      "outputs": []
    }
  ]
}