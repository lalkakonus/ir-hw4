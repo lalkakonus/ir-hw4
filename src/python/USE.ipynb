{
  "nbformat": 4,
  "nbformat_minor": 0,
  "metadata": {
    "colab": {
      "name": "Universal Sentence Encoder",
      "provenance": [],
      "private_outputs": true,
      "collapsed_sections": [],
      "machine_shape": "hm"
    },
    "kernelspec": {
      "display_name": "Python 3",
      "name": "python3"
    }
  },
  "cells": [
    {
      "cell_type": "markdown",
      "metadata": {
        "id": "HeWe4UBMc7IF",
        "colab_type": "text"
      },
      "source": [
        "Установка необходимых библиотек"
      ]
    },
    {
      "cell_type": "code",
      "metadata": {
        "cellView": "both",
        "colab_type": "code",
        "id": "lVjNK8shFKOC",
        "colab": {}
      },
      "source": [
        "%%capture\n",
        "!pip install tensorflow_text\n",
        "!pip install bokeh\n",
        "!pip install simpleneighbors[annoy]\n",
        "!pip install tqdm\n",
        "!pip install progress"
      ],
      "execution_count": null,
      "outputs": []
    },
    {
      "cell_type": "markdown",
      "metadata": {
        "id": "dqrd5b56dBXL",
        "colab_type": "text"
      },
      "source": [
        "Монтирование диска Google Drive для загрузк и харанения  данных.\n",
        "\n",
        "**ВНИМАНИЕ** для доступа к данным необходимо выполнить следующие действия:\n",
        "\n",
        "1. Перейти по [ссылке](https://drive.google.com/drive/folders/1MnoxVXjG8o8kL0SS14E3YzbZmCovsGpR?usp=sharing)\n",
        "2. Создать ярлык на данную директорию в своём Google Drive. Для этого нажмите на название директории а затем на \"Добавить ярлык на Диск\"."
      ]
    },
    {
      "cell_type": "code",
      "metadata": {
        "id": "CHQ7KHXFwipq",
        "colab_type": "code",
        "colab": {}
      },
      "source": [
        "from google.colab import drive\n",
        "drive.mount(\"/content/gdrive\")"
      ],
      "execution_count": null,
      "outputs": []
    },
    {
      "cell_type": "markdown",
      "metadata": {
        "id": "AjdW4JG8dF9P",
        "colab_type": "text"
      },
      "source": [
        "Импортирование необходимых библиотек\n"
      ]
    },
    {
      "cell_type": "code",
      "metadata": {
        "cellView": "both",
        "colab_type": "code",
        "id": "MSeY-MUQo2Ha",
        "colab": {}
      },
      "source": [
        "from pathlib import Path\n",
        "import pandas as pd\n",
        "import numpy as np\n",
        "import tensorflow.compat.v2 as tf\n",
        "import tensorflow_hub as hub\n",
        "from tensorflow_text import SentencepieceTokenizer\n",
        "from sklearn.metrics.pairwise import cosine_similarity\n",
        "from tqdm import tqdm"
      ],
      "execution_count": null,
      "outputs": []
    },
    {
      "cell_type": "markdown",
      "metadata": {
        "id": "aIx_W6i1dJsf",
        "colab_type": "text"
      },
      "source": [
        "Выбор и загрузка модели для получения эмбеддингов"
      ]
    },
    {
      "cell_type": "code",
      "metadata": {
        "id": "V_xdsL_R_WF2",
        "colab_type": "code",
        "colab": {}
      },
      "source": [
        "# mode, alias = \"-large\", \"large\"\n",
        "mode, alias = \"\", \"original\"\n",
        "module_url = \"https://tfhub.dev/google/universal-sentence-encoder-multilingual{}/3\".format(mode)\n",
        "model = hub.load(module_url)"
      ],
      "execution_count": null,
      "outputs": []
    },
    {
      "cell_type": "markdown",
      "metadata": {
        "id": "euhtQa2PdUD_",
        "colab_type": "text"
      },
      "source": [
        "Подсчёт близости запросов и загоовков документов в пространстве эмбеддингов."
      ]
    },
    {
      "cell_type": "code",
      "metadata": {
        "id": "Txqo9rcfwZdK",
        "colab_type": "code",
        "colab": {}
      },
      "source": [
        "prefix = Path(\"/content/gdrive/My Drive/Kononov_NLP\")\n",
        "queries_df = pd.read_csv(prefix / \"queries.tsv\", sep=\"\\t\", index_col=0)\n",
        "titles_df = pd.read_csv(prefix / \"titles.tsv\", sep=\"\\t\", index_col=0).fillna(\"\")\n",
        "relation_df = pd.read_csv(prefix / \"samples.tsv\", sep=\"\\t\")\n",
        "\n",
        "relation_df.drop(columns=[\"label\", \"sample_id\"], inplace=True)\n",
        "relation_df = relation_df.assign(embedding_similarity=np.full(relation_df.index.size, 0.0))\n",
        "for key, group in tqdm(relation_df.groupby(\"query_id\")):\n",
        "  doc_idx = group[\"doc_id\"].values\n",
        "  query_embedding = model(queries_df[\"text\"].loc[key])\n",
        "  title_embeddings = model(titles_df[\"text\"].loc[doc_idx].to_list())\n",
        "  relation_df.loc[group.index, \"embedding_similarity\"] = cosine_similarity(query_embedding.numpy().reshape(1, -1),\n",
        "                                                                           title_embeddings.numpy()).reshape(-1)\n",
        "\n",
        "path = prefix / \"semantic/use_{}_query_doc_embedding_similarity.tsv\".format(alias)\n",
        "relation_df.to_csv(path, sep=\"\\t\", index=False)\n",
        "print(\"Result saved to file: {}\".format(path))"
      ],
      "execution_count": null,
      "outputs": []
    }
  ]
}